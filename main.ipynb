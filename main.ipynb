{
 "cells": [
  {
   "cell_type": "markdown",
   "id": "89e8fd4e",
   "metadata": {},
   "source": [
    "## 给你一个整数数组 nums ，判断是否存在三元组 [nums[i], nums[j], nums[k]] 满足 i != j、i != k 且 j != k ，同时还满足 nums[i] + nums[j] + nums[k] == 0 。请你返回所有和为 0 且不重复的三元组。"
   ]
  },
  {
   "cell_type": "code",
   "execution_count": null,
   "id": "b76ba733",
   "metadata": {},
   "outputs": [
    {
     "ename": "SyntaxError",
     "evalue": "invalid character '，' (U+FF0C) (2401759350.py, line 1)",
     "output_type": "error",
     "traceback": [
      "\u001b[1;36m  Cell \u001b[1;32mIn[1], line 1\u001b[1;36m\u001b[0m\n\u001b[1;33m    给你一个整数数组 nums ，判断是否存在三元组 [nums[i], nums[j], nums[k]] 满足 i != j、i != k 且 j != k ，同时还满足 nums[i] + nums[j] + nums[k] == 0 。请你返回所有和为 0 且不重复的三元组。\u001b[0m\n\u001b[1;37m                  ^\u001b[0m\n\u001b[1;31mSyntaxError\u001b[0m\u001b[1;31m:\u001b[0m invalid character '，' (U+FF0C)\n"
     ]
    }
   ],
   "source": [
    "def solution(nums):\n",
    "    result = []\n",
    "    nums.sort()\n",
    "    for i in range(len(nums) - 2)：\n",
    "        "
   ]
  },
  {
   "cell_type": "code",
   "execution_count": null,
   "id": "068895aa",
   "metadata": {},
   "outputs": [],
   "source": [
    "def solve():\n",
    "    n = int(input())\n",
    "    nums = []\n",
    "    for _ in range(n):\n",
    "        nums.append(int(input()))\n",
    "\n",
    "    max_and_result = 0\n",
    "\n",
    "    # 从最高位开始遍历，对于 2 * 10^9，最高位是 2^30 (约 10^9)\n",
    "    # 所以从第 30 位（0-indexed）开始向下遍历到第 0 位\n",
    "    for i in range(30, -1, -1):\n",
    "        # 构造当前位的 mask\n",
    "        current_bit_mask = 1 << i\n",
    "\n",
    "        # 尝试将当前位设置为 1\n",
    "        # current_potential_max_and 包含目前已经确定的高位以及当前位\n",
    "        current_potential_max_and = max_and_result | current_bit_mask\n",
    "\n",
    "        count = 0\n",
    "        # 检查有多少个数字满足与 current_potential_max_and 按位与后仍等于 current_potential_max_and\n",
    "        # 这意味着这些数字在 current_potential_max_and 为 1 的所有位上都是 1\n",
    "        for num in nums:\n",
    "            if (num & current_potential_max_and) == current_potential_max_and:\n",
    "                count += 1\n",
    "        \n",
    "        # 如果至少有两个数字满足条件，那么说明当前位可以为 1\n",
    "        # 将 max_and_result 更新为包含当前位的结果\n",
    "        if count >= 2:\n",
    "            max_and_result = current_potential_max_and\n",
    "\n",
    "    print(max_and_result)\n",
    "\n",
    "# 调用函数\n",
    "solve()"
   ]
  },
  {
   "cell_type": "code",
   "execution_count": null,
   "id": "ca60e5b5",
   "metadata": {},
   "outputs": [],
   "source": [
    "from collections import defaultdict\n",
    "T = int(input())\n",
    "for _ in range(T):\n",
    "    n, m = map(int, input().split())\n",
    "    renew_type = list(map(int, input().split()))\n",
    "    area_l = list(map(int, input().split()))\n",
    "    area_r = list(map(int, input().split()))\n",
    "    all_areas = []\n",
    "    area_l_dict = defaultdict(int)\n",
    "    area_r_dict = defaultdict(int)\n",
    "    results = []\n",
    "    for i in range(m):\n",
    "        if renew_type[i] == 1:\n",
    "            all_areas.append((area_l[i], area_r[i]))\n",
    "            area_l_dict[area_l[i]] += 1\n",
    "            area_r_dict[area_r[i]] += 1\n",
    "        else:\n",
    "            all_areas.remove((area_l[i], area_r[i]))\n",
    "            area_l_dict[area_l[i]] -= 1\n",
    "            area_r_dict[area_r[i]] -= 1\n",
    "        if_solution = False\n",
    "        for l, r in all_areas:\n",
    "            for k, v in area_l_dict.items():\n",
    "                if k > r and v:\n",
    "                    if_solution = True\n",
    "                    break\n",
    "            if if_solution:\n",
    "                break\n",
    "                \n",
    "            for k, v in area_r_dict.items():\n",
    "                if k < l and v:\n",
    "                    if_solution = True\n",
    "                    break\n",
    "            if if_solution:\n",
    "                break\n",
    "        if if_solution:\n",
    "            results.append('YES')\n",
    "        else:\n",
    "            results.append('NO')\n",
    "    print(' '.join(results))\n",
    "            \n",
    "        "
   ]
  },
  {
   "cell_type": "code",
   "execution_count": 2,
   "id": "a50b9c26",
   "metadata": {},
   "outputs": [
    {
     "data": {
      "text/plain": [
       "[1, 2, 3, 4]"
      ]
     },
     "execution_count": 2,
     "metadata": {},
     "output_type": "execute_result"
    }
   ],
   "source": [
    "all_areas = [1,3,2,4]\n",
    "all_areas.sort(key=lambda x: x)\n",
    "all_areas"
   ]
  },
  {
   "cell_type": "code",
   "execution_count": null,
   "id": "fba53af8",
   "metadata": {},
   "outputs": [],
   "source": []
  }
 ],
 "metadata": {
  "kernelspec": {
   "display_name": "base",
   "language": "python",
   "name": "python3"
  },
  "language_info": {
   "codemirror_mode": {
    "name": "ipython",
    "version": 3
   },
   "file_extension": ".py",
   "mimetype": "text/x-python",
   "name": "python",
   "nbconvert_exporter": "python",
   "pygments_lexer": "ipython3",
   "version": "3.12.7"
  }
 },
 "nbformat": 4,
 "nbformat_minor": 5
}
